{
 "cells": [
  {
   "cell_type": "markdown",
   "id": "c59befd9",
   "metadata": {},
   "source": [
    "load libraries"
   ]
  },
  {
   "cell_type": "code",
   "execution_count": 2,
   "id": "1da9738a",
   "metadata": {},
   "outputs": [],
   "source": [
    "import torch\n",
    "import torch.nn as nn \n",
    "from torch.optim import optimizer\n",
    "from torch.utils.data import DataLoader\n",
    "#from torchvision.datasets import CIFAR10\n",
    "from torchvision import transforms,datasets"
   ]
  },
  {
   "cell_type": "markdown",
   "id": "ec095386",
   "metadata": {},
   "source": [
    "preprocessing"
   ]
  },
  {
   "cell_type": "code",
   "execution_count": 3,
   "id": "fe16b01c",
   "metadata": {},
   "outputs": [],
   "source": [
    "transform=transforms.Compose([\n",
    "    transforms.ToTensor(),\n",
    "    transforms.Normalize((0.5,0.5,0.5),(0.5,0.5,0.5)) #mean and std for normalization 3 channels so 3 0.5s\n",
    "])"
   ]
  },
  {
   "cell_type": "markdown",
   "id": "127328cc",
   "metadata": {},
   "source": [
    "load the dataset"
   ]
  },
  {
   "cell_type": "code",
   "execution_count": 4,
   "id": "879aa595",
   "metadata": {},
   "outputs": [],
   "source": [
    "train_data=datasets.FashionMNIST(root='./data',train=True,download=True,transform=transform)"
   ]
  },
  {
   "cell_type": "markdown",
   "id": "a875ab81",
   "metadata": {},
   "source": [
    "build the architecture"
   ]
  },
  {
   "cell_type": "markdown",
   "id": "2249a8c5",
   "metadata": {},
   "source": []
  },
  {
   "cell_type": "code",
   "execution_count": 5,
   "id": "339a6ced",
   "metadata": {},
   "outputs": [],
   "source": [
    "class cnn_Cifar10(nn.Module):\n",
    "    def __init__(self):\n",
    "        super().__init__()\n",
    "        self.cnn1=nn.Conv2d(3,6,5)\n",
    "        self.pool1=nn.MaxPool2d(2,2)\n",
    "        self.cnn2=nn.Conv2d(6,16,5)\n",
    "        self.pool2=nn.MaxPool2d(2,2)\n",
    "\n",
    "        #classifier\n",
    "        self.fc1=nn.Linear(6*6*16,4096)\n",
    "        self.fc2=nn.Linear(4096,2048)\n",
    "        self.fc3=nn.Linear(1024,512)\n",
    "        self.fc4=nn.Linear(512,10)\n",
    "    \n",
    "    def forward(self,x): \n",
    "        x=self.cnn1(x)\n",
    "        x=nn.ReLU(x)\n",
    "        x=self.pool1(x)\n",
    "\n",
    "        x=self.pool2(nn.ReLU(self.cnn2(x)))\n",
    "        \n",
    "        x=self.fc1(x)\n",
    "        x=nn.ReLU(x)\n",
    "        x=self.fc2(x)\n",
    "        x=nn.ReLU(x)\n",
    "        x=self.fc3(x)\n",
    "        x=nn.ReLU(x)\n",
    "        x=self.fc4(x)\n",
    "        return x\n",
    "\n",
    "\n",
    "\n",
    "\n",
    "        \n"
   ]
  },
  {
   "cell_type": "code",
   "execution_count": 6,
   "id": "3a43e627",
   "metadata": {},
   "outputs": [],
   "source": [
    "model=cnn_Cifar10()\n",
    "criterion=nn.CrossEntropyLoss()\n",
    "optimizer=torch.optim.Adam(model.parameters(),lr=0.001)\n"
   ]
  },
  {
   "cell_type": "code",
   "execution_count": null,
   "id": "09abccd3",
   "metadata": {},
   "outputs": [],
   "source": []
  }
 ],
 "metadata": {
  "kernelspec": {
   "display_name": ".venv",
   "language": "python",
   "name": "python3"
  },
  "language_info": {
   "codemirror_mode": {
    "name": "ipython",
    "version": 3
   },
   "file_extension": ".py",
   "mimetype": "text/x-python",
   "name": "python",
   "nbconvert_exporter": "python",
   "pygments_lexer": "ipython3",
   "version": "3.12.4"
  }
 },
 "nbformat": 4,
 "nbformat_minor": 5
}
